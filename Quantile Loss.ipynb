{
 "cells": [
  {
   "cell_type": "code",
   "execution_count": 3,
   "metadata": {},
   "outputs": [
    {
     "name": "stderr",
     "output_type": "stream",
     "text": [
      "/Users/jacob/anaconda3/envs/kiromic/lib/python3.6/site-packages/h5py/__init__.py:36: FutureWarning: Conversion of the second argument of issubdtype from `float` to `np.floating` is deprecated. In future, it will be treated as `np.float64 == np.dtype(float).type`.\n",
      "  from ._conv import register_converters as _register_converters\n"
     ]
    }
   ],
   "source": [
    "import tensorflow as tf\n",
    "import pandas as pd\n",
    "import numpy as np\n",
    "import matplotlib.pyplot as plt\n",
    "\n",
    "%matplotlib inline\n",
    "\n",
    "# Initialize session\n",
    "sess = tf.Session()"
   ]
  },
  {
   "cell_type": "code",
   "execution_count": 4,
   "metadata": {},
   "outputs": [],
   "source": [
    "# Load data\n",
    "mcycle = pd.read_csv('mcycle',delimiter='\\t')\n",
    "mcycle_times_mean = mcycle.times.mean()\n",
    "mcycle_accel_mean =  mcycle.accel.mean()\n",
    "mcycle_times_std = mcycle.times.std()\n",
    "mcycle_accel_std = mcycle.accel.std()\n",
    "\n",
    "mcycle.times = (mcycle.times - mcycle_times_mean)/mcycle_times_std\n",
    "mcycle.accel = (mcycle.accel - mcycle_accel_mean)/mcycle_accel_std\n",
    "\n",
    "# Reshape to input format for network\n",
    "times = np.expand_dims(mcycle.times.values, 1)\n",
    "accel = np.expand_dims(mcycle.accel.values, 1)"
   ]
  },
  {
   "cell_type": "code",
   "execution_count": 42,
   "metadata": {},
   "outputs": [],
   "source": [
    "# Create network\n",
    "class q_model:\n",
    "    def __init__(self, \n",
    "                 sess, \n",
    "                 quantiles, \n",
    "                 in_shape=1, \n",
    "                 out_shape=1, \n",
    "                 batch_size=32):\n",
    "        \n",
    "        self.sess = sess\n",
    "        \n",
    "        self.quantiles = quantiles\n",
    "        self.num_quantiles = len(quantiles)\n",
    "        \n",
    "        self.in_shape = in_shape\n",
    "        self.out_shape = out_shape\n",
    "        self.batch_size = batch_size\n",
    "        \n",
    "        self.outputs = []\n",
    "        self.losses = []\n",
    "        self.loss_history = []\n",
    "        \n",
    "        self.build_model()\n",
    "        \n",
    "    def build_model(self, scope='q_model', reuse=tf.AUTO_REUSE): \n",
    "        with tf.variable_scope(scope, reuse=reuse) as scope:\n",
    "            self.x = tf.placeholder(tf.float32, shape=(None, self.in_shape))\n",
    "            self.y = tf.placeholder(tf.float32, shape=(None, self.out_shape))\n",
    "\n",
    "            self.layer0 = tf.layers.dense(self.x, \n",
    "                                    units=32, \n",
    "                                    activation=tf.nn.relu)\n",
    "            self.layer1 = tf.layers.dense(self.layer0, \n",
    "                                    units=32, \n",
    "                                    activation=tf.nn.relu)\n",
    "\n",
    "            # Create outputs and losses for all quantiles\n",
    "            for i in range(self.num_quantiles):\n",
    "                q = self.quantiles[i]\n",
    "                \n",
    "                # Get output layers \n",
    "                output = tf.layers.dense(self.layer1, 1, name=\"{}_q{}\".format(i, int(q*100)))\n",
    "                self.outputs.append(output)\n",
    "                \n",
    "                # Create losses\n",
    "                \n",
    "                error = tf.subtract(self.y, output)\n",
    "                loss = tf.reduce_mean(tf.maximum(q*error, (q-1)*error), axis=-1)\n",
    "\n",
    "                self.losses.append(loss)\n",
    "\n",
    "            # Create combined loss\n",
    "            self.combined_loss = tf.reduce_mean(tf.add_n(self.losses))\n",
    "            self.train_step = tf.train.AdamOptimizer().minimize(self.combined_loss)\n",
    "\n",
    "    def fit(self, x, y, epochs=100):  \n",
    "        for epoch in range(epochs):\n",
    "            epoch_losses = []\n",
    "            for idx in range(0, x.shape[0], self.batch_size):\n",
    "                batch_x = x[idx : min(idx + self.batch_size, x.shape[0]),:]\n",
    "                batch_y = y[idx : min(idx + self.batch_size, y.shape[0]),:]\n",
    "\n",
    "                feed_dict = {self.x: batch_x,\n",
    "                             self.y: batch_y}\n",
    "\n",
    "                _, c_loss = self.sess.run([self.train_step, self.combined_loss], feed_dict)\n",
    "                epoch_losses.append(c_loss)\n",
    "                \n",
    "            epoch_loss =  np.mean(epoch_losses)\n",
    "            self.loss_history.append(epoch_loss)\n",
    "            if epoch % 100 == 0:\n",
    "                print(\"Epoch {}: {}\".format(epoch, epoch_loss))\n",
    "            \n",
    "    def predict(self, x):   \n",
    "        # Run model to get outputs\n",
    "        feed_dict = {self.x: x}\n",
    "        predictions = sess.run(self.outputs, feed_dict)\n",
    "        \n",
    "        return predictions\n"
   ]
  },
  {
   "cell_type": "code",
   "execution_count": 43,
   "metadata": {},
   "outputs": [],
   "source": [
    "# Instantiate model\n",
    "quantiles = [.1, .5, .9]\n",
    "model = q_model(sess, quantiles, batch_size=32)\n",
    "\n",
    "# Initialize all variables\n",
    "init_op = tf.global_variables_initializer()\n",
    "sess.run(init_op)"
   ]
  },
  {
   "cell_type": "code",
   "execution_count": 44,
   "metadata": {},
   "outputs": [
    {
     "name": "stdout",
     "output_type": "stream",
     "text": [
      "Epoch 0: 1.28651762008667\n",
      "Epoch 100: 0.566359281539917\n",
      "Epoch 200: 0.4066397249698639\n",
      "Epoch 300: 0.33803483843803406\n",
      "Epoch 400: 0.30299827456474304\n",
      "Epoch 500: 0.2755032181739807\n",
      "Epoch 600: 0.25843241810798645\n",
      "Epoch 700: 0.25172367691993713\n",
      "Epoch 800: 0.24871711432933807\n",
      "Epoch 900: 0.25110912322998047\n",
      "Epoch 1000: 0.2475467175245285\n",
      "Epoch 1100: 0.2458878606557846\n",
      "Epoch 1200: 0.24449209868907928\n",
      "Epoch 1300: 0.24454854428768158\n",
      "Epoch 1400: 0.24357259273529053\n",
      "Epoch 1500: 0.2434576004743576\n",
      "Epoch 1600: 0.24177248775959015\n",
      "Epoch 1700: 0.24332064390182495\n",
      "Epoch 1800: 0.2407195121049881\n",
      "Epoch 1900: 0.23958206176757812\n"
     ]
    }
   ],
   "source": [
    "# Run training\n",
    "epochs = 2000\n",
    "model.fit(times, accel, epochs)"
   ]
  },
  {
   "cell_type": "code",
   "execution_count": 45,
   "metadata": {},
   "outputs": [
    {
     "data": {
      "image/png": "[encoded data removed]",
      "text/plain": [
       "<matplotlib.figure.Figure at 0x116758630>"
      ]
     },
     "metadata": {},
     "output_type": "display_data"
    }
   ],
   "source": [
    "# Generate the range of data we'd like to predict\n",
    "test_times = np.expand_dims(np.linspace(times.min(),times.max(),200), 1)\n",
    "predictions = model.predict(test_times)\n",
    "\n",
    "plt.scatter(times, accel)\n",
    "for i, prediction in enumerate(predictions):\n",
    "    plt.plot(test_times, prediction, label='{}th Quantile'.format(int(model.quantiles[i]*100)))\n",
    "    \n",
    "plt.legend()\n",
    "plt.show()"
   ]
  },
  {
   "cell_type": "code",
   "execution_count": 27,
   "metadata": {},
   "outputs": [
    {
     "data": {
      "text/plain": [
       "[<tf.Tensor 'q_model_5/0_q10/BiasAdd:0' shape=(?, 1) dtype=float32>,\n",
       " <tf.Tensor 'q_model_5/1_q50/BiasAdd:0' shape=(?, 1) dtype=float32>,\n",
       " <tf.Tensor 'q_model_5/2_q90/BiasAdd:0' shape=(?, 1) dtype=float32>]"
      ]
     },
     "execution_count": 27,
     "metadata": {},
     "output_type": "execute_result"
    }
   ],
   "source": [
    "model.outputs"
   ]
  },
  {
   "cell_type": "code",
   "execution_count": null,
   "metadata": {},
   "outputs": [],
   "source": []
  },
  {
   "cell_type": "code",
   "execution_count": null,
   "metadata": {},
   "outputs": [],
   "source": []
  }
 ],
 "metadata": {
  "kernelspec": {
   "display_name": "Python 3",
   "language": "python",
   "name": "python3"
  },
  "language_info": {
   "codemirror_mode": {
    "name": "ipython",
    "version": 3
   },
   "file_extension": ".py",
   "mimetype": "text/x-python",
   "name": "python",
   "nbconvert_exporter": "python",
   "pygments_lexer": "ipython3",
   "version": "3.6.3"
  }
 },
 "nbformat": 4,
 "nbformat_minor": 2
}
